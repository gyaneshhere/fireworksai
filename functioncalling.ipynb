{
 "cells": [
  {
   "cell_type": "code",
   "execution_count": 10,
   "id": "05b87d09-3e26-45ba-9a58-5ed1421413d0",
   "metadata": {},
   "outputs": [],
   "source": [
    "import openai\n",
    "import json\n",
    "import os\n",
    "import dotenv\n",
    "dotenv.load_dotenv()\n",
    "\n",
    "api_key = os.getenv(\"API_KEY\")\n",
    "base_url=os.getenv(\"BASE_URL\")\n"
   ]
  },
  {
   "cell_type": "code",
   "execution_count": 12,
   "id": "a78a214d-fff0-4ff4-98ba-ac4bf9a855de",
   "metadata": {},
   "outputs": [],
   "source": [
    "client = openai.OpenAI(\n",
    "    base_url = base_url,\n",
    "    api_key = api_key\n",
    ")\n"
   ]
  },
  {
   "cell_type": "code",
   "execution_count": 13,
   "id": "14f08aae-988c-4805-abcf-811a42868752",
   "metadata": {},
   "outputs": [],
   "source": [
    "messages = [\n",
    "    {\"role\": \"system\", \"content\": f\"You are a helpful assistant with access to functions.\" \n",
    "     \t\t\t\t\t\t\t\t\t\t\t\t\t\t\t\"Use them if required.\"},\n",
    "    {\"role\": \"user\", \"content\": \"What are Nike's net income in 2022?\"}\n",
    "]\n"
   ]
  },
  {
   "cell_type": "code",
   "execution_count": 14,
   "id": "c32f6da7-b99e-4b5d-855e-6b51c98e3f73",
   "metadata": {},
   "outputs": [],
   "source": [
    "tools = [\n",
    "    {\n",
    "        \"type\": \"function\",\n",
    "        \"function\": {\n",
    "            # name of the function \n",
    "            \"name\": \"get_financial_data\",\n",
    "            # a good, detailed description for what the function is supposed to do\n",
    "            \"description\": \"Get financial data for a company given the metric and year.\",\n",
    "            # a well defined json schema: https://json-schema.org/learn/getting-started-step-by-step#define\n",
    "            \"parameters\": {\n",
    "                # for OpenAI compatibility, we always declare a top level object for the parameters of the function\n",
    "                \"type\": \"object\",\n",
    "                # the properties for the object would be any arguments you want to provide to the function\n",
    "                \"properties\": {\n",
    "                    \"metric\": {\n",
    "                        # JSON Schema supports string, number, integer, object, array, boolean and null\n",
    "                        # for more information, please check out https://json-schema.org/understanding-json-schema/reference/type\n",
    "                        \"type\": \"string\",\n",
    "                        # You can restrict the space of possible values in an JSON Schema\n",
    "                        # you can check out https://json-schema.org/understanding-json-schema/reference/enum for more examples on how enum works\n",
    "                        \"enum\": [\"net_income\", \"revenue\", \"ebdita\"],\n",
    "                    },\n",
    "                    \"financial_year\": {\n",
    "                        \"type\": \"integer\", \n",
    "                        # If the model does not understand how it is supposed to fill the field, a good description goes a long way \n",
    "                        \"description\": \"Year for which we want to get financial data.\"\n",
    "                    },\n",
    "                    \"company\": {\n",
    "                        \"type\": \"string\",\n",
    "                        \"description\": \"Name of the company for which we want to get financial data.\"\n",
    "                    }\n",
    "                },\n",
    "                # You can specify which of the properties from above are required\n",
    "                # for more info on `required` field, please check https://json-schema.org/understanding-json-schema/reference/object#required\n",
    "                \"required\": [\"metric\", \"financial_year\", \"company\"],\n",
    "            },\n",
    "        },\n",
    "    }\n",
    "]\n",
    "\n"
   ]
  },
  {
   "cell_type": "code",
   "execution_count": 15,
   "id": "91c0442d-10ec-4844-9927-b36a2383f412",
   "metadata": {},
   "outputs": [],
   "source": [
    "chat_completion = client.chat.completions.create(\n",
    "    model=\"accounts/fireworks/models/firefunction-v2\",\n",
    "    messages=messages,\n",
    "    tools=tools,\n",
    "    temperature=0.1\n",
    ")\n"
   ]
  },
  {
   "cell_type": "code",
   "execution_count": 16,
   "id": "7f38b617-a535-425d-a922-28c842466257",
   "metadata": {
    "scrolled": true
   },
   "outputs": [
    {
     "name": "stdout",
     "output_type": "stream",
     "text": [
      "{\n",
      "    \"content\": null,\n",
      "    \"refusal\": null,\n",
      "    \"role\": \"assistant\",\n",
      "    \"function_call\": null,\n",
      "    \"tool_calls\": [\n",
      "        {\n",
      "            \"id\": \"call_vBVNNINMpfyfN01TpCAjeWn7\",\n",
      "            \"function\": {\n",
      "                \"arguments\": \"{\\\"metric\\\": \\\"net_income\\\", \\\"financial_year\\\": 2022, \\\"company\\\": \\\"Nike\\\"}\",\n",
      "                \"name\": \"get_financial_data\"\n",
      "            },\n",
      "            \"type\": \"function\",\n",
      "            \"index\": 0\n",
      "        }\n",
      "    ]\n",
      "}\n"
     ]
    }
   ],
   "source": [
    "print(chat_completion.choices[0].message.model_dump_json(indent=4))"
   ]
  },
  {
   "cell_type": "code",
   "execution_count": 17,
   "id": "4c8c0dd1-3cdc-4325-95d0-3c94cd815566",
   "metadata": {},
   "outputs": [
    {
     "name": "stdout",
     "output_type": "stream",
     "text": [
      "arthritis\n"
     ]
    }
   ],
   "source": [
    "####Grammar Mode#####\n",
    "\n",
    "diagnosis_grammar = \"\"\"\n",
    "root      ::= diagnosis\n",
    "diagnosis ::= \"arthritis\" | \"dengue\" | \"urinary tract infection\" | \"impetigo\" | \"cervical spondylosis\"\n",
    "\"\"\"\n",
    "\n",
    "chat_completion = client.chat.completions.create(\n",
    "    model=\"accounts/fireworks/models/llama-v3p1-405b-instruct\",\n",
    "    response_format={\"type\": \"grammar\", \"grammar\": diagnosis_grammar},\n",
    "    messages=[\n",
    "        {\n",
    "            \"role\": \"system\",\n",
    "            \"content\": \"Given the symptoms try to guess the possible diagnosis. Possible choices: arthritis, dengue, urinary tract infection, impetigo, cervical spondylosis. Answer with a single word\",\n",
    "        },\n",
    "        {\n",
    "            \"role\": \"user\",\n",
    "            \"content\": \"I have been having trouble with my muscles and joints. My neck is really tight and my muscles feel weak. I have swollen joints and it is hard to move around without becoming stiff. It is also really uncomfortable to walk.\",\n",
    "        },\n",
    "    ],\n",
    ")\n",
    "print(chat_completion.choices[0].message.content)\n"
   ]
  },
  {
   "cell_type": "code",
   "execution_count": 18,
   "id": "817da11b-b2be-4c7e-921e-3e7ac5907384",
   "metadata": {},
   "outputs": [
    {
     "name": "stdout",
     "output_type": "stream",
     "text": [
      "おはようございます、ようこそ京都へです。京都は、日本の文化、歴史、自然が集まっている素晴らしい都市です。ここでは、京都のいくつかの人気スポットをご紹介しますね。まず、伏見稲荷大社は、京都で最も有名な神社のひとつです。数千の朱塗りの鳥居が山腹に並び、見る人を圧倒します。次に、清水寺は、京都で最も古い寺院のひとつです。階段状の庭園が美しく、特に紅葉の時期には、見事な景色を楽しむことができます。金閣寺は、金色に輝く寺院で、美しい庭園とともに、京都の代表的な観光スポットです。嵐山は、紅葉の名所として有名で、特に十一月には、美しい景色を楽しむことができます。また、京都の地元食を楽しむことができるグルメスポットもあります。京都には、伝統的な日本料理から、現代的な日本料理まで、様々なグルメが楽しめます。最後に、夜の京都を楽しむために、祇園は、伝統的な日本の文化を感じることができる場所です。伝統的な日本建築や、芸妓さんの踊りなど、京都の夜の雰囲気を味わうことができます。\n"
     ]
    }
   ],
   "source": [
    "\n",
    "cjk_grammar = \"\"\"\n",
    "root        ::= jp-char+ ([ \\t\\n] jp-char+)*\n",
    "jp-char     ::= hiragana | katakana | punctuation | cjk\n",
    "hiragana    ::= [ぁ-ゟ]\n",
    "katakana    ::= [ァ-ヿ]\n",
    "punctuation ::= [、-〾]\n",
    "cjk         ::= [一-鿿]\n",
    "\"\"\"\n",
    "chat_completion = client.chat.completions.create(\n",
    "    model=\"accounts/fireworks/models/llama-v3p1-405b-instruct\",\n",
    "    response_format={\"type\": \"grammar\", \"grammar\": cjk_grammar},\n",
    "    messages=[\n",
    "        {\n",
    "            \"role\": \"user\",\n",
    "            \"content\": \"You are a Japanese tour guide who speaks fluent Japanese. Please tell me what are some good places for me to visit in Kyoto\",\n",
    "        },\n",
    "    ],\n",
    ")\n",
    "\n",
    "\n",
    "\n",
    "\n",
    "print(chat_completion.choices[0].message.content)\n",
    "\n"
   ]
  },
  {
   "cell_type": "code",
   "execution_count": 19,
   "id": "d0b8b0b2-b188-4878-b0ea-22c53e19e3bc",
   "metadata": {},
   "outputs": [],
   "source": [
    "import openai\n",
    "from pydantic import BaseModel, Field\n",
    "\n",
    "\n",
    "class Result(BaseModel):\n",
    "    winner: str\n",
    "\n",
    "chat_completion = client.chat.completions.create(\n",
    "    model=\"accounts/fireworks/models/mixtral-8x7b-instruct\",\n",
    "    response_format={\"type\": \"json_object\", \"schema\": Result.model_json_schema()},\n",
    "    messages=[\n",
    "        {\n",
    "            \"role\": \"user\",\n",
    "            \"content\": \"Who won the US presidential election in 2012? Reply just in one JSON.\",\n",
    "        },\n",
    "    ],\n",
    ")\n"
   ]
  },
  {
   "cell_type": "code",
   "execution_count": 20,
   "id": "d557ef11-8c6d-49b9-b2d7-37e43182ed03",
   "metadata": {},
   "outputs": [
    {
     "name": "stdout",
     "output_type": "stream",
     "text": [
      "'{\\n\"winner\": \"Barack Obama\"\\n}'\n"
     ]
    }
   ],
   "source": [
    "print(repr(chat_completion.choices[0].message.content))"
   ]
  },
  {
   "cell_type": "code",
   "execution_count": null,
   "id": "c2e8d166-ff8c-4809-b17b-92d0364b6ab2",
   "metadata": {},
   "outputs": [],
   "source": []
  }
 ],
 "metadata": {
  "kernelspec": {
   "display_name": "Python 3 (ipykernel)",
   "language": "python",
   "name": "python3"
  },
  "language_info": {
   "codemirror_mode": {
    "name": "ipython",
    "version": 3
   },
   "file_extension": ".py",
   "mimetype": "text/x-python",
   "name": "python",
   "nbconvert_exporter": "python",
   "pygments_lexer": "ipython3",
   "version": "3.12.4"
  }
 },
 "nbformat": 4,
 "nbformat_minor": 5
}
